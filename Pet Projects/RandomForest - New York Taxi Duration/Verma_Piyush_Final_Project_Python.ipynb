{
 "cells": [
  {
   "cell_type": "code",
   "execution_count": 64,
   "metadata": {},
   "outputs": [],
   "source": [
    "#### Author: Piyush Verma\n",
    "#### Topic: Final Python Project submission\n",
    "#### Case: Building a statistical model to predict New York Taxi Trip Durations\n",
    "#### Data: New York Taxi ride from Kaggle competition https://www.kaggle.com/c/nyc-taxi-trip-duration\n",
    "#### Date: 04/12/2018\n",
    "\n",
    "#### STRATEGY: \n",
    "#### 1: Read the data \n",
    "#### 2: Perform EDA and data massaging\n",
    "#### 3: Split the data into training and testing\n",
    "#### 4: Fit different models\n",
    "#### 5: Perform prediction\n",
    "\n",
    "#### PROBLEM STATEMENT: \n",
    "#### The TLC licenses and regulates over 50,000 vehicles and approximately 100,000 drivers, \n",
    "#### and performs safety and emissions inspections of the 13,587 medallions, making it the most \n",
    "#### active taxi and limousine licensing regulatory agency in the United States. However, with \n",
    "#### ever growing population and the corresponding increase in traffic congestion brought by \n",
    "#### it makes it important for taxi drivers as well as commuters to know how much time it would \n",
    "#### take for the trip to get completed. This problem gets complex when factors such as Time of \n",
    "#### the day, Day of the week and associated weather with respect to seasons in a year are \n",
    "#### incorporated. \n",
    "\n",
    "#### GOAL:\n",
    "#### Accurately predicting the duration of each trip would help drivers know the exact financial \n",
    "#### value of each trip for their time investment spent driving in traffic at a day/time along \n",
    "#### with weather conditions (which could be extreme depending on time of the year). Similarly, \n",
    "#### the prediction would help customers plan their trips according thereby helping them to plan \n",
    "#### their day better. \n",
    "\n",
    "#### HOW TO USE:\n",
    "#### Put the raw data file in the Python's working directoy\n",
    "#### Put the module file in the Python's working directoy\n",
    "#### Run the codes one by one\n",
    "#### Write the output file in the same file \n",
    "\n",
    "#### DATA FIELDS\n",
    "#### id - a unique identifier for each trip\n",
    "#### vendor_id - a code indicating the provider associated with the trip record\n",
    "#### pickup_datetime - date and time when the meter was engaged\n",
    "#### dropoff_datetime - date and time when the meter was disengaged\n",
    "#### passenger_count - the number of passengers in the vehicle (driver entered value)\n",
    "#### pickup_longitude - the longitude where the meter was engaged\n",
    "#### pickup_latitude - the latitude where the meter was engaged\n",
    "#### dropoff_longitude - the longitude where the meter was disengaged\n",
    "#### dropoff_latitude - the latitude where the meter was disengaged\n",
    "#### store_and_fwd_flag - This flag indicates whether the trip record was held in vehicle memory before sending to the vendor because the vehicle did not have a connection to the server - Y=store and forward; N=not a store and forward trip\n",
    "#### trip_duration - duration of the trip in seconds"
   ]
  },
  {
   "cell_type": "code",
   "execution_count": 43,
   "metadata": {},
   "outputs": [],
   "source": [
    "#### Reading the data from the .csv file\n",
    "import pandas as pd\n",
    "import numpy as np\n",
    "np.random.seed(12396911)\n",
    "new_york_original = pd.read_csv(\"C:/0000/Project X/New York Taxi Trip Duration/new_york_taxi_rides.csv\")\n",
    "new_york_original.head(n=5) # Prints the head of the dataset\n",
    "ny = new_york_original.sample(20000)"
   ]
  },
  {
   "cell_type": "code",
   "execution_count": 44,
   "metadata": {},
   "outputs": [
    {
     "name": "stdout",
     "output_type": "stream",
     "text": [
      "The size of your dataset is: 20000 X 10\n",
      "  \n",
      "Below are your columns and the datatypes:\n",
      "  \n",
      "Unnamed: 0: int64\n",
      "vendor_id: int64\n",
      "passenger_count: int64\n",
      "store_and_fwd_flag: object\n",
      "month: int64\n",
      "date: int64\n",
      "weekday: object\n",
      "time: int64\n",
      "distance: float64\n",
      "trip_duration: int64\n"
     ]
    }
   ],
   "source": [
    "#### Using a module, function and error handling (inside the function)\n",
    "from module_pro import summary\n",
    "summary(ny)"
   ]
  },
  {
   "cell_type": "code",
   "execution_count": 45,
   "metadata": {},
   "outputs": [
    {
     "data": {
      "text/plain": [
       "vendor_id             category\n",
       "passenger_count          int64\n",
       "store_and_fwd_flag    category\n",
       "month                 category\n",
       "date                  category\n",
       "weekday               category\n",
       "time                  category\n",
       "distance               float64\n",
       "trip_duration          float64\n",
       "dtype: object"
      ]
     },
     "execution_count": 45,
     "metadata": {},
     "output_type": "execute_result"
    }
   ],
   "source": [
    "#### Changing the datatype\n",
    "del ny['Unnamed: 0']  \n",
    "ny['vendor_id'] = ny['vendor_id'].astype('category')\n",
    "ny['store_and_fwd_flag'] = ny['store_and_fwd_flag'].astype('category')\n",
    "ny['month'] = ny['month'].astype('category')\n",
    "ny['date'] = ny['date'].astype('category')\n",
    "ny['weekday'] = ny['weekday'].astype('category')\n",
    "ny['time'] = ny['time'].astype('category')\n",
    "\n",
    "ny['trip_duration'] = ny['trip_duration'].astype(float)\n",
    "ny['trip_duration'] = ny['trip_duration'].astype(float)\n",
    "ny.dtypes"
   ]
  },
  {
   "cell_type": "code",
   "execution_count": 46,
   "metadata": {},
   "outputs": [
    {
     "data": {
      "text/html": [
       "<div>\n",
       "<style scoped>\n",
       "    .dataframe tbody tr th:only-of-type {\n",
       "        vertical-align: middle;\n",
       "    }\n",
       "\n",
       "    .dataframe tbody tr th {\n",
       "        vertical-align: top;\n",
       "    }\n",
       "\n",
       "    .dataframe thead th {\n",
       "        text-align: right;\n",
       "    }\n",
       "</style>\n",
       "<table border=\"1\" class=\"dataframe\">\n",
       "  <thead>\n",
       "    <tr style=\"text-align: right;\">\n",
       "      <th></th>\n",
       "      <th>vendor_id</th>\n",
       "      <th>passenger_count</th>\n",
       "      <th>store_and_fwd_flag</th>\n",
       "      <th>month</th>\n",
       "      <th>date</th>\n",
       "      <th>weekday</th>\n",
       "      <th>time</th>\n",
       "      <th>distance</th>\n",
       "      <th>trip_duration</th>\n",
       "    </tr>\n",
       "  </thead>\n",
       "  <tbody>\n",
       "    <tr>\n",
       "      <th>count</th>\n",
       "      <td>20000.00</td>\n",
       "      <td>20000.00</td>\n",
       "      <td>20000</td>\n",
       "      <td>20000.00</td>\n",
       "      <td>20000.00</td>\n",
       "      <td>20000</td>\n",
       "      <td>20000.00</td>\n",
       "      <td>20000.00</td>\n",
       "      <td>20000.00</td>\n",
       "    </tr>\n",
       "    <tr>\n",
       "      <th>unique</th>\n",
       "      <td>2.00</td>\n",
       "      <td>nan</td>\n",
       "      <td>2</td>\n",
       "      <td>6.00</td>\n",
       "      <td>31.00</td>\n",
       "      <td>7</td>\n",
       "      <td>24.00</td>\n",
       "      <td>nan</td>\n",
       "      <td>nan</td>\n",
       "    </tr>\n",
       "    <tr>\n",
       "      <th>top</th>\n",
       "      <td>2.00</td>\n",
       "      <td>nan</td>\n",
       "      <td>N</td>\n",
       "      <td>3.00</td>\n",
       "      <td>12.00</td>\n",
       "      <td>Friday</td>\n",
       "      <td>18.00</td>\n",
       "      <td>nan</td>\n",
       "      <td>nan</td>\n",
       "    </tr>\n",
       "    <tr>\n",
       "      <th>freq</th>\n",
       "      <td>10598.00</td>\n",
       "      <td>nan</td>\n",
       "      <td>19896</td>\n",
       "      <td>3511.00</td>\n",
       "      <td>729.00</td>\n",
       "      <td>3051</td>\n",
       "      <td>1272.00</td>\n",
       "      <td>nan</td>\n",
       "      <td>nan</td>\n",
       "    </tr>\n",
       "    <tr>\n",
       "      <th>mean</th>\n",
       "      <td>nan</td>\n",
       "      <td>1.66</td>\n",
       "      <td>NaN</td>\n",
       "      <td>nan</td>\n",
       "      <td>nan</td>\n",
       "      <td>NaN</td>\n",
       "      <td>nan</td>\n",
       "      <td>2.91</td>\n",
       "      <td>733.09</td>\n",
       "    </tr>\n",
       "    <tr>\n",
       "      <th>std</th>\n",
       "      <td>nan</td>\n",
       "      <td>1.31</td>\n",
       "      <td>NaN</td>\n",
       "      <td>nan</td>\n",
       "      <td>nan</td>\n",
       "      <td>NaN</td>\n",
       "      <td>nan</td>\n",
       "      <td>2.90</td>\n",
       "      <td>449.42</td>\n",
       "    </tr>\n",
       "    <tr>\n",
       "      <th>min</th>\n",
       "      <td>nan</td>\n",
       "      <td>1.00</td>\n",
       "      <td>NaN</td>\n",
       "      <td>nan</td>\n",
       "      <td>nan</td>\n",
       "      <td>NaN</td>\n",
       "      <td>nan</td>\n",
       "      <td>0.00</td>\n",
       "      <td>22.00</td>\n",
       "    </tr>\n",
       "    <tr>\n",
       "      <th>25%</th>\n",
       "      <td>nan</td>\n",
       "      <td>1.00</td>\n",
       "      <td>NaN</td>\n",
       "      <td>nan</td>\n",
       "      <td>nan</td>\n",
       "      <td>NaN</td>\n",
       "      <td>nan</td>\n",
       "      <td>1.20</td>\n",
       "      <td>385.00</td>\n",
       "    </tr>\n",
       "    <tr>\n",
       "      <th>50%</th>\n",
       "      <td>nan</td>\n",
       "      <td>1.00</td>\n",
       "      <td>NaN</td>\n",
       "      <td>nan</td>\n",
       "      <td>nan</td>\n",
       "      <td>NaN</td>\n",
       "      <td>nan</td>\n",
       "      <td>1.98</td>\n",
       "      <td>631.00</td>\n",
       "    </tr>\n",
       "    <tr>\n",
       "      <th>75%</th>\n",
       "      <td>nan</td>\n",
       "      <td>2.00</td>\n",
       "      <td>NaN</td>\n",
       "      <td>nan</td>\n",
       "      <td>nan</td>\n",
       "      <td>NaN</td>\n",
       "      <td>nan</td>\n",
       "      <td>3.47</td>\n",
       "      <td>997.00</td>\n",
       "    </tr>\n",
       "    <tr>\n",
       "      <th>max</th>\n",
       "      <td>nan</td>\n",
       "      <td>6.00</td>\n",
       "      <td>NaN</td>\n",
       "      <td>nan</td>\n",
       "      <td>nan</td>\n",
       "      <td>NaN</td>\n",
       "      <td>nan</td>\n",
       "      <td>33.41</td>\n",
       "      <td>2103.00</td>\n",
       "    </tr>\n",
       "  </tbody>\n",
       "</table>\n",
       "</div>"
      ],
      "text/plain": [
       "        vendor_id  passenger_count store_and_fwd_flag    month     date  \\\n",
       "count    20000.00         20000.00              20000 20000.00 20000.00   \n",
       "unique       2.00              nan                  2     6.00    31.00   \n",
       "top          2.00              nan                  N     3.00    12.00   \n",
       "freq     10598.00              nan              19896  3511.00   729.00   \n",
       "mean          nan             1.66                NaN      nan      nan   \n",
       "std           nan             1.31                NaN      nan      nan   \n",
       "min           nan             1.00                NaN      nan      nan   \n",
       "25%           nan             1.00                NaN      nan      nan   \n",
       "50%           nan             1.00                NaN      nan      nan   \n",
       "75%           nan             2.00                NaN      nan      nan   \n",
       "max           nan             6.00                NaN      nan      nan   \n",
       "\n",
       "       weekday     time  distance  trip_duration  \n",
       "count    20000 20000.00  20000.00       20000.00  \n",
       "unique       7    24.00       nan            nan  \n",
       "top     Friday    18.00       nan            nan  \n",
       "freq      3051  1272.00       nan            nan  \n",
       "mean       NaN      nan      2.91         733.09  \n",
       "std        NaN      nan      2.90         449.42  \n",
       "min        NaN      nan      0.00          22.00  \n",
       "25%        NaN      nan      1.20         385.00  \n",
       "50%        NaN      nan      1.98         631.00  \n",
       "75%        NaN      nan      3.47         997.00  \n",
       "max        NaN      nan     33.41        2103.00  "
      ]
     },
     "execution_count": 46,
     "metadata": {},
     "output_type": "execute_result"
    }
   ],
   "source": [
    "#### Understanding through the summary of the clean data\n",
    "pd.options.display.float_format = '{:.2f}'.format\n",
    "ny.describe(include = 'all') # Prints the summary"
   ]
  },
  {
   "cell_type": "code",
   "execution_count": 47,
   "metadata": {},
   "outputs": [
    {
     "data": {
      "text/plain": [
       "<matplotlib.axes._subplots.AxesSubplot at 0x1ce01e5c828>"
      ]
     },
     "execution_count": 47,
     "metadata": {},
     "output_type": "execute_result"
    },
    {
     "data": {
      "image/png": "[encoded data removed]",
      "text/plain": [
       "<matplotlib.figure.Figure at 0x1ce01cf1668>"
      ]
     },
     "metadata": {},
     "output_type": "display_data"
    }
   ],
   "source": [
    "#### Exploratory Data Analysis\n",
    "%matplotlib inline\n",
    "\n",
    "month_order = [1, 2, 3, 4, 5, 6]\n",
    "date_order = [1,2,3,4,5,6,7,8,9,10,11,12,13,14,15,16,17,18,19,20,21,22,23,24,25,26,27,28,29,30,31]\n",
    "weekday_order = ['Monday','Tuesday','Wednesday','Thursday','Friday','Saturday','Sunday']\n",
    "\n",
    "#### Histograms\n",
    "import matplotlib.pyplot as plt"
   ]
  },
  {
   "cell_type": "code",
   "execution_count": null,
   "metadata": {},
   "outputs": [],
   "source": [
    "#### Histogram: Vendor ID\n",
    "ny['vendor_id'].value_counts().plot(kind = 'bar', title = 'vendor_id')"
   ]
  },
  {
   "cell_type": "code",
   "execution_count": 48,
   "metadata": {},
   "outputs": [
    {
     "data": {
      "text/plain": [
       "<matplotlib.axes._subplots.AxesSubplot at 0x1ce01e57518>"
      ]
     },
     "execution_count": 48,
     "metadata": {},
     "output_type": "execute_result"
    },
    {
     "data": {
      "image/png": "[encoded data removed]",
      "text/plain": [
       "<matplotlib.figure.Figure at 0x1ce01e54f98>"
      ]
     },
     "metadata": {},
     "output_type": "display_data"
    }
   ],
   "source": [
    "#### Histogram: GPS Data Flag\n",
    "ny['store_and_fwd_flag'].value_counts().plot(kind = 'bar', title = 'store_and_fwd_flag')"
   ]
  },
  {
   "cell_type": "code",
   "execution_count": 49,
   "metadata": {},
   "outputs": [
    {
     "data": {
      "text/plain": [
       "<matplotlib.axes._subplots.AxesSubplot at 0x1ce01e54f60>"
      ]
     },
     "execution_count": 49,
     "metadata": {},
     "output_type": "execute_result"
    },
    {
     "data": {
      "image/png": "[encoded data removed]",
      "text/plain": [
       "<matplotlib.figure.Figure at 0x1ce01ebb390>"
      ]
     },
     "metadata": {},
     "output_type": "display_data"
    }
   ],
   "source": [
    "#### Histogram: Month of the year\n",
    "ny['month'].value_counts().loc[month_order].plot(kind = 'bar', title = 'month')"
   ]
  },
  {
   "cell_type": "code",
   "execution_count": 50,
   "metadata": {},
   "outputs": [
    {
     "data": {
      "text/plain": [
       "<matplotlib.axes._subplots.AxesSubplot at 0x1ce01ebb550>"
      ]
     },
     "execution_count": 50,
     "metadata": {},
     "output_type": "execute_result"
    },
    {
     "data": {
      "image/png": "[encoded data removed]",
      "text/plain": [
       "<matplotlib.figure.Figure at 0x1ce01f03588>"
      ]
     },
     "metadata": {},
     "output_type": "display_data"
    }
   ],
   "source": [
    "#### Histogram: Day of the month\n",
    "ny['date'].value_counts().loc[date_order].plot(kind = 'bar', title = 'date')"
   ]
  },
  {
   "cell_type": "code",
   "execution_count": 51,
   "metadata": {},
   "outputs": [
    {
     "data": {
      "text/plain": [
       "<matplotlib.axes._subplots.AxesSubplot at 0x1ce02007278>"
      ]
     },
     "execution_count": 51,
     "metadata": {},
     "output_type": "execute_result"
    },
    {
     "data": {
      "image/png": "[encoded data removed]",
      "text/plain": [
       "<matplotlib.figure.Figure at 0x1ce020134a8>"
      ]
     },
     "metadata": {},
     "output_type": "display_data"
    }
   ],
   "source": [
    "#### Histogram: Week of the day\n",
    "ny['weekday'].value_counts().loc[weekday_order].plot(kind = 'bar', title = 'weekday')"
   ]
  },
  {
   "cell_type": "code",
   "execution_count": 33,
   "metadata": {},
   "outputs": [
    {
     "data": {
      "text/plain": [
       "Text(0.5,1,'Ride Dsitance (km)')"
      ]
     },
     "execution_count": 33,
     "metadata": {},
     "output_type": "execute_result"
    },
    {
     "data": {
      "image/png": "[encoded data removed]",
      "text/plain": [
       "<matplotlib.figure.Figure at 0x1ce042dca58>"
      ]
     },
     "metadata": {},
     "output_type": "display_data"
    }
   ],
   "source": [
    "#### Histogram: Trip distance\n",
    "ny['distance'].hist(bins=200).set_title(\"Ride Dsitance (km)\")"
   ]
  },
  {
   "cell_type": "code",
   "execution_count": 34,
   "metadata": {},
   "outputs": [
    {
     "data": {
      "text/plain": [
       "Text(0.5,1,'Ride Duration (seconds)')"
      ]
     },
     "execution_count": 34,
     "metadata": {},
     "output_type": "execute_result"
    },
    {
     "data": {
      "image/png": "[encoded data removed]",
      "text/plain": [
       "<matplotlib.figure.Figure at 0x1ce0bbd0470>"
      ]
     },
     "metadata": {},
     "output_type": "display_data"
    }
   ],
   "source": [
    "#### Histogram: Trip duration\n",
    "ny['trip_duration'].hist(bins=200).set_title(\"Ride Duration (seconds)\")"
   ]
  },
  {
   "cell_type": "code",
   "execution_count": 52,
   "metadata": {},
   "outputs": [
    {
     "data": {
      "text/html": [
       "<div>\n",
       "<style scoped>\n",
       "    .dataframe tbody tr th:only-of-type {\n",
       "        vertical-align: middle;\n",
       "    }\n",
       "\n",
       "    .dataframe tbody tr th {\n",
       "        vertical-align: top;\n",
       "    }\n",
       "\n",
       "    .dataframe thead th {\n",
       "        text-align: right;\n",
       "    }\n",
       "</style>\n",
       "<table border=\"1\" class=\"dataframe\">\n",
       "  <thead>\n",
       "    <tr style=\"text-align: right;\">\n",
       "      <th></th>\n",
       "      <th>passenger_count</th>\n",
       "      <th>distance</th>\n",
       "      <th>trip_duration</th>\n",
       "      <th>vendor_id_1</th>\n",
       "      <th>vendor_id_2</th>\n",
       "      <th>store_and_fwd_flag_N</th>\n",
       "      <th>store_and_fwd_flag_Y</th>\n",
       "      <th>month_1</th>\n",
       "      <th>month_2</th>\n",
       "      <th>month_3</th>\n",
       "      <th>...</th>\n",
       "      <th>time_14</th>\n",
       "      <th>time_15</th>\n",
       "      <th>time_16</th>\n",
       "      <th>time_17</th>\n",
       "      <th>time_18</th>\n",
       "      <th>time_19</th>\n",
       "      <th>time_20</th>\n",
       "      <th>time_21</th>\n",
       "      <th>time_22</th>\n",
       "      <th>time_23</th>\n",
       "    </tr>\n",
       "  </thead>\n",
       "  <tbody>\n",
       "    <tr>\n",
       "      <th>152162</th>\n",
       "      <td>2</td>\n",
       "      <td>3.85</td>\n",
       "      <td>712.00</td>\n",
       "      <td>0</td>\n",
       "      <td>1</td>\n",
       "      <td>1</td>\n",
       "      <td>0</td>\n",
       "      <td>0</td>\n",
       "      <td>0</td>\n",
       "      <td>0</td>\n",
       "      <td>...</td>\n",
       "      <td>0</td>\n",
       "      <td>0</td>\n",
       "      <td>0</td>\n",
       "      <td>0</td>\n",
       "      <td>0</td>\n",
       "      <td>0</td>\n",
       "      <td>0</td>\n",
       "      <td>0</td>\n",
       "      <td>0</td>\n",
       "      <td>0</td>\n",
       "    </tr>\n",
       "    <tr>\n",
       "      <th>154530</th>\n",
       "      <td>5</td>\n",
       "      <td>1.63</td>\n",
       "      <td>922.00</td>\n",
       "      <td>0</td>\n",
       "      <td>1</td>\n",
       "      <td>1</td>\n",
       "      <td>0</td>\n",
       "      <td>0</td>\n",
       "      <td>0</td>\n",
       "      <td>0</td>\n",
       "      <td>...</td>\n",
       "      <td>0</td>\n",
       "      <td>0</td>\n",
       "      <td>0</td>\n",
       "      <td>0</td>\n",
       "      <td>0</td>\n",
       "      <td>0</td>\n",
       "      <td>0</td>\n",
       "      <td>0</td>\n",
       "      <td>0</td>\n",
       "      <td>0</td>\n",
       "    </tr>\n",
       "    <tr>\n",
       "      <th>1259090</th>\n",
       "      <td>1</td>\n",
       "      <td>1.98</td>\n",
       "      <td>1644.00</td>\n",
       "      <td>0</td>\n",
       "      <td>1</td>\n",
       "      <td>1</td>\n",
       "      <td>0</td>\n",
       "      <td>0</td>\n",
       "      <td>1</td>\n",
       "      <td>0</td>\n",
       "      <td>...</td>\n",
       "      <td>0</td>\n",
       "      <td>0</td>\n",
       "      <td>0</td>\n",
       "      <td>0</td>\n",
       "      <td>0</td>\n",
       "      <td>0</td>\n",
       "      <td>0</td>\n",
       "      <td>0</td>\n",
       "      <td>0</td>\n",
       "      <td>0</td>\n",
       "    </tr>\n",
       "    <tr>\n",
       "      <th>469838</th>\n",
       "      <td>2</td>\n",
       "      <td>10.03</td>\n",
       "      <td>1464.00</td>\n",
       "      <td>0</td>\n",
       "      <td>1</td>\n",
       "      <td>1</td>\n",
       "      <td>0</td>\n",
       "      <td>0</td>\n",
       "      <td>0</td>\n",
       "      <td>0</td>\n",
       "      <td>...</td>\n",
       "      <td>0</td>\n",
       "      <td>1</td>\n",
       "      <td>0</td>\n",
       "      <td>0</td>\n",
       "      <td>0</td>\n",
       "      <td>0</td>\n",
       "      <td>0</td>\n",
       "      <td>0</td>\n",
       "      <td>0</td>\n",
       "      <td>0</td>\n",
       "    </tr>\n",
       "    <tr>\n",
       "      <th>921844</th>\n",
       "      <td>1</td>\n",
       "      <td>2.38</td>\n",
       "      <td>430.00</td>\n",
       "      <td>1</td>\n",
       "      <td>0</td>\n",
       "      <td>1</td>\n",
       "      <td>0</td>\n",
       "      <td>0</td>\n",
       "      <td>0</td>\n",
       "      <td>1</td>\n",
       "      <td>...</td>\n",
       "      <td>0</td>\n",
       "      <td>0</td>\n",
       "      <td>0</td>\n",
       "      <td>0</td>\n",
       "      <td>0</td>\n",
       "      <td>0</td>\n",
       "      <td>1</td>\n",
       "      <td>0</td>\n",
       "      <td>0</td>\n",
       "      <td>0</td>\n",
       "    </tr>\n",
       "  </tbody>\n",
       "</table>\n",
       "<p>5 rows × 75 columns</p>\n",
       "</div>"
      ],
      "text/plain": [
       "         passenger_count  distance  trip_duration  vendor_id_1  vendor_id_2  \\\n",
       "152162                 2      3.85         712.00            0            1   \n",
       "154530                 5      1.63         922.00            0            1   \n",
       "1259090                1      1.98        1644.00            0            1   \n",
       "469838                 2     10.03        1464.00            0            1   \n",
       "921844                 1      2.38         430.00            1            0   \n",
       "\n",
       "         store_and_fwd_flag_N  store_and_fwd_flag_Y  month_1  month_2  \\\n",
       "152162                      1                     0        0        0   \n",
       "154530                      1                     0        0        0   \n",
       "1259090                     1                     0        0        1   \n",
       "469838                      1                     0        0        0   \n",
       "921844                      1                     0        0        0   \n",
       "\n",
       "         month_3   ...     time_14  time_15  time_16  time_17  time_18  \\\n",
       "152162         0   ...           0        0        0        0        0   \n",
       "154530         0   ...           0        0        0        0        0   \n",
       "1259090        0   ...           0        0        0        0        0   \n",
       "469838         0   ...           0        1        0        0        0   \n",
       "921844         1   ...           0        0        0        0        0   \n",
       "\n",
       "         time_19  time_20  time_21  time_22  time_23  \n",
       "152162         0        0        0        0        0  \n",
       "154530         0        0        0        0        0  \n",
       "1259090        0        0        0        0        0  \n",
       "469838         0        0        0        0        0  \n",
       "921844         0        1        0        0        0  \n",
       "\n",
       "[5 rows x 75 columns]"
      ]
     },
     "execution_count": 52,
     "metadata": {},
     "output_type": "execute_result"
    }
   ],
   "source": [
    "#### Creating dummies for the categorical variables\n",
    "ny = pd.get_dummies(ny)\n",
    "ny.iloc[:,:].head(5)"
   ]
  },
  {
   "cell_type": "code",
   "execution_count": 53,
   "metadata": {},
   "outputs": [],
   "source": [
    "#### Converting panda dataframes to numpy arrays\n",
    "\n",
    "#### Labels are the values we want to predict\n",
    "labels = np.array(ny['trip_duration'])\n",
    "\n",
    "#### Remove the labels from the features, axis 1 refers to the columns\n",
    "ny = ny.drop('trip_duration', axis = 1)\n",
    "\n",
    "#### Saving column names for the future use: Visualizations\n",
    "feature_list = list(ny.columns)\n",
    "\n",
    "#### Convert to numpy array\n",
    "ny = np.array(ny)"
   ]
  },
  {
   "cell_type": "code",
   "execution_count": 54,
   "metadata": {},
   "outputs": [
    {
     "name": "stdout",
     "output_type": "stream",
     "text": [
      "Training Features Shape: (16000, 74)\n",
      "Training Labels Shape: (16000,)\n",
      "Testing Features Shape: (4000, 74)\n",
      "Testing Labels Shape: (4000,)\n"
     ]
    }
   ],
   "source": [
    "#### Training and Testings\n",
    "from sklearn.model_selection import train_test_split\n",
    "#### Split the data into training and testing sets\n",
    "train_features, test_features, train_labels, test_labels = train_test_split(ny, labels, test_size = 0.20, random_state = 42)\n",
    "\n",
    "#### Check the shape of the data\n",
    "print('Training Features Shape:', train_features.shape)\n",
    "print('Training Labels Shape:', train_labels.shape)\n",
    "print('Testing Features Shape:', test_features.shape)\n",
    "print('Testing Labels Shape:', test_labels.shape)"
   ]
  },
  {
   "cell_type": "code",
   "execution_count": 55,
   "metadata": {},
   "outputs": [],
   "source": [
    "#### Fit different models\n",
    "from sklearn.ensemble import RandomForestClassifier\n",
    "\n",
    "rf = RandomForestClassifier(n_estimators=100, max_features = 10) # initialize\n",
    "rf = rf.fit(train_features, train_labels) # fit the data to the algorithm"
   ]
  },
  {
   "cell_type": "code",
   "execution_count": 39,
   "metadata": {},
   "outputs": [],
   "source": [
    "rf_predictions = rf.predict(test_features)"
   ]
  },
  {
   "cell_type": "code",
   "execution_count": 18,
   "metadata": {},
   "outputs": [
    {
     "data": {
      "text/plain": [
       "445.9"
      ]
     },
     "execution_count": 18,
     "metadata": {},
     "output_type": "execute_result"
    }
   ],
   "source": [
    "import math\n",
    "#### Accuracy: MSPE\n",
    "round(math.sqrt(sum((rf_predictions-test_labels)**2)/len(rf_predictions)),2)\n",
    "\n",
    "\n",
    "#### Tuning the Random Forest fit and finding the best\n",
    "     # 457.97 n_estimators=10, max_features = 10\n",
    "     # 433.73 n_estimators=30, max_features = 10\n",
    "     # 443.03 n_estimators=30\n",
    "     # 464.25 n_estimators=30, max_features = 'sqrt'\n",
    "#BEST# 431.91 n_estimators=30, max_features = 10"
   ]
  },
  {
   "cell_type": "code",
   "execution_count": 61,
   "metadata": {
    "scrolled": false
   },
   "outputs": [
    {
     "data": {
      "image/png": "[encoded data removed]",
      "text/plain": [
       "<matplotlib.figure.Figure at 0x1ce024db7b8>"
      ]
     },
     "metadata": {},
     "output_type": "display_data"
    }
   ],
   "source": [
    "#### Visualization: Difference between Actual and Prediction\n",
    "import matplotlib.pyplot as plt\n",
    "plt.hist(rf_predictions, bins = 100, color = \"red\", lw=0, alpha=0.5)\n",
    "plt.hist(test_labels, bins = 100, color = \"green\", lw=0, alpha=0.5)\n",
    "\n",
    "#### Saving the output comparison file\n",
    "#### Predictions seem to be closer to actual\n",
    "plt.savefig(\"prediction_output.png\")"
   ]
  }
 ],
 "metadata": {
  "kernelspec": {
   "display_name": "Python 3",
   "language": "python",
   "name": "python3"
  },
  "language_info": {
   "codemirror_mode": {
    "name": "ipython",
    "version": 3
   },
   "file_extension": ".py",
   "mimetype": "text/x-python",
   "name": "python",
   "nbconvert_exporter": "python",
   "pygments_lexer": "ipython3",
   "version": "3.6.4"
  }
 },
 "nbformat": 4,
 "nbformat_minor": 2
}
